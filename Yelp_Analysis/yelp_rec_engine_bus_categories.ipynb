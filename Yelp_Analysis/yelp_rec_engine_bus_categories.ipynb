{
 "metadata": {
  "name": ""
 },
 "nbformat": 3,
 "nbformat_minor": 0,
 "worksheets": [
  {
   "cells": [
    {
     "cell_type": "code",
     "collapsed": false,
     "input": [
      "#!/usr/local/bin/python\n",
      "import pdb\n",
      "import json\n",
      "import csv\n",
      "import recsys.algorithm\n",
      "from recsys.algorithm.factorize import SVD\n",
      "from recsys.datamodel.data import Data\n",
      "from recsys.evaluation.prediction import RMSE, MAE\n",
      "from recsys.utils.svdlibc import SVDLIBC\n",
      "import json\n",
      "import sqlite3\n",
      "import sys\n",
      "import numpy as np\n",
      "import pandas as pd"
     ],
     "language": "python",
     "metadata": {},
     "outputs": [],
     "prompt_number": 25
    },
    {
     "cell_type": "code",
     "collapsed": false,
     "input": [
      "def CreateCSV(filename,database):\n",
      "    # connect to database\n",
      "    db = sqlite3.connect(database)\n",
      "    c = db.cursor()\n",
      "    \n",
      "    # execute query and return results to data\n",
      "    c.execute(\"SELECT business_id, category, is_true from business_categories\")\n",
      "    data = c.fetchall()\n",
      "    db.close()\n",
      "\n",
      "    # create csv file with data from query\n",
      "    csvfile = open(filename, 'wb')\n",
      "    csvwriter = csv.writer(csvfile)    \n",
      "    for i in range(len(data)):\n",
      "        csvwriter.writerow(data[i])\n",
      "    csvfile.close()\n",
      "    print \"%s was created from %s using the following query:\" % (filename, database)\n",
      "    print \"      SELECT business_id, category, is_true from business_categories\"\n",
      "    \n",
      "    "
     ],
     "language": "python",
     "metadata": {},
     "outputs": [],
     "prompt_number": 26
    },
    {
     "cell_type": "code",
     "collapsed": false,
     "input": [
      "database = 'yelp.db'\n",
      "csv_filename = 'business_categories.csv'\n",
      "CreateCSV(csv_filename,database)\n",
      "\n",
      "    "
     ],
     "language": "python",
     "metadata": {},
     "outputs": [
      {
       "output_type": "stream",
       "stream": "stdout",
       "text": [
        "business_categories.csv was created from yelp.db using the following query:\n",
        "      SELECT business_id, category, is_true from business_categories\n"
       ]
      }
     ],
     "prompt_number": 27
    },
    {
     "cell_type": "code",
     "collapsed": false,
     "input": [
      "def LoadData(filename, PERCENT_TRAIN=20):\n",
      "    # load data from csv file into recsys data object\n",
      "    data = Data()\n",
      "    dat_file = filename\n",
      "    data.load(dat_file, sep=',',format={'col': 1, 'row': 0, 'value': 2,'ids':int})\n",
      "    \n",
      "    # separate data into a training set and a testing set\n",
      "    train, test = data.split_train_test(percent=PERCENT_TRAIN)\n",
      "    return train, test\n",
      "\n",
      "train, test = LoadData('business_categories.csv')\n",
      "\n",
      "print train[0][2]\n",
      "print test"
     ],
     "language": "python",
     "metadata": {},
     "outputs": [
      {
       "output_type": "stream",
       "stream": "stdout",
       "text": [
        "Pizza\n",
        "34720 rows.\n",
        "E.g: (1.0, u'lRew0HDz5BO-4fwWsMJyMg', u'Mexican')\n"
       ]
      }
     ],
     "prompt_number": 28
    },
    {
     "cell_type": "code",
     "collapsed": false,
     "input": [
      "def SVDcompute(train):\n",
      "    # create instance of a svd object\n",
      "    svd = SVD()\n",
      "    \n",
      "    # train the svd object\n",
      "    svd.set_data(train)\n",
      "    \n",
      "    # compute svd object (creates sparse matrix)\n",
      "    k = 10\n",
      "    svd.compute(k, min_values=1, pre_normalize=None,\n",
      "                mean_center=True, post_normalize=True)\n",
      "    return svd\n",
      "\n",
      "svd = SVDcompute(train)\n",
      "print svd\n"
     ],
     "language": "python",
     "metadata": {},
     "outputs": [
      {
       "output_type": "stream",
       "stream": "stdout",
       "text": [
        "M':<ReconstructedMatrix: 7018 by 460>\n",
        "A row (U):[ 0.  0.  0.  0.  0.  0.  0.  0.  0.  0.  0.  0.  0.  0.  0.  0.  0.  0.\n",
        "  0.  0.  0.  0.  0.  0.  0.  0.  0.  0.  0.  0.  0.  0.  0.  0.  0.  0.\n",
        "  0.  0.  0.  0.  0.  0.  0.  0.  0.  0.  0.  0.  0.  0.  0.  0.  0.  0.\n",
        "  0.  0.  0.  0.  0.  0.  0.  0.  0.  0.  0.  0.  0.  0.  0.  0.  0.  0.\n",
        "  0.  0.  0.  0.  0.  0.  0.  0.  0.  0.  0.  0.  0.  0.  0.  0.  0.  0.\n",
        "  0.  0.  0.  0.  0.  0.  0.  0.  0.  0.  0.  0.  0.  0.  0.  0.  0.  0.\n",
        "  0.  0.  0.  0.  0.  0.  0.  0.  0.  0.  0.  0.  0.  0.  0.  0.  0.  0.\n",
        "  0.  0.  0.  0.  0.  0.  0.  0.  0.  0.  0.  0.  0.  0.  0.  0.  0.  0.\n",
        "  0.  0.  0.  0.  0.  0.  0.  0.  0.  0.  0.  0.  0.  0.  0.  0.  0.  0.\n",
        "  0.  0.  0.  0.  0.  0.  0.  0.  0.  0.  0.  0.  0.  0.  0.  0.  0.  0.\n",
        "  0.  0.  0.  0.  0.  0.  0.  0.  0.  0.  0.  0.  0.  0.  0.  0.  0.  0.\n",
        "  0.  0.  0.  0.  0.  0.  0.  0.  0.  0.  0.  0.  0.  0.  0.  0.  0.  0.\n",
        "  0.  0.  0.  0.  0.  0.  0.  0.  0.  0.  0.  0.  0.  0.  0.  0.  0.  0.\n",
        "  0.  0.  0.  0.  0.  0.  0.  0.  0.  0.  0.  0.  0.  0.  0.  0.  0.  0.\n",
        "  0.  0.  0.  0.  0.  0.  0.  0.  0.  0.  0.  0.  0.  0.  0.  0.  0.  0.\n",
        "  0.  0.  0.  0.  0.  0.  0.  0.  0.  0.  0.  0.  0.  0.  0.  0.  0.  0.\n",
        "  0.  0.  0.  0.  0.  0.  0.  0.  0.  0.  0.  0.  0.  0.  0.  0.  0.  0.\n",
        "  0.  0.  0.  0.  0.  0.  0.  0.  0.  0.  0.  0.  0.  0.  0.  0.  0.  0.\n",
        "  0.  0.  0.  0.  0.  0.  0.  0.  0.  0.  0.  0.  0.  0.  0.  0.  0.  0.\n",
        "  0.  0.  0.  0.  0.  0.  0.  0.  0.  0.  0.  0.  0.  0.  0.  0.  0.  0.\n",
        "  0.  0.  0.  0.  0.  0.  0.  0.  0.  0.  0.  0.  0.  0.  0.  0.  0.  0.\n",
        "  0.  0.  0.  0.  0.  0.  0.  0.  0.  0.  0.  0.  0.  0.  0.  0.  0.  0.\n",
        "  0.  0.  0.  0.  0.  0.  0.  0.  0.  0.  0.  0.  0.  0.  0.  0.  0.  0.\n",
        "  0.  0.  0.  0.  0.  0.  0.  0.  0.  0.  0.  0.  0.  0.  0.  0.  0.  0.\n",
        "  0.  0.  0.  0.  0.  0.  0.  0.  0.  0.  0.  0.  0.  0.  0.  0.  0.  0.\n",
        "  0.  0.  0.  0.  0.  0.  0.  0.  0.  0.]\n",
        "A col (V):[ 0.  0.  0.  0.  0.  0.  0.  0.  0.  0.]\n"
       ]
      }
     ],
     "prompt_number": 29
    },
    {
     "cell_type": "code",
     "collapsed": false,
     "input": [
      "test_svd = svd.similar(train[0][1],n=10)\n",
      "print test_svd"
     ],
     "language": "python",
     "metadata": {},
     "outputs": [
      {
       "ename": "ValueError",
       "evalue": "Matrix is empty (or has no columns!)",
       "output_type": "pyerr",
       "traceback": [
        "\u001b[0;31m---------------------------------------------------------------------------\u001b[0m\n\u001b[0;31mValueError\u001b[0m                                Traceback (most recent call last)",
        "\u001b[0;32m<ipython-input-30-76fe86780f75>\u001b[0m in \u001b[0;36m<module>\u001b[0;34m()\u001b[0m\n\u001b[0;32m----> 1\u001b[0;31m \u001b[0mtest_svd\u001b[0m \u001b[0;34m=\u001b[0m \u001b[0msvd\u001b[0m\u001b[0;34m.\u001b[0m\u001b[0msimilar\u001b[0m\u001b[0;34m(\u001b[0m\u001b[0mtrain\u001b[0m\u001b[0;34m[\u001b[0m\u001b[0;36m0\u001b[0m\u001b[0;34m]\u001b[0m\u001b[0;34m[\u001b[0m\u001b[0;36m1\u001b[0m\u001b[0;34m]\u001b[0m\u001b[0;34m,\u001b[0m\u001b[0mn\u001b[0m\u001b[0;34m=\u001b[0m\u001b[0;36m10\u001b[0m\u001b[0;34m)\u001b[0m\u001b[0;34m\u001b[0m\u001b[0m\n\u001b[0m\u001b[1;32m      2\u001b[0m \u001b[0;32mprint\u001b[0m \u001b[0mtest_svd\u001b[0m\u001b[0;34m\u001b[0m\u001b[0m\n",
        "\u001b[0;32m/Users/Craig_Sakuma/anaconda/lib/python2.7/site-packages/python_recsys-0.2-py2.7.egg/recsys/algorithm/baseclass.pyc\u001b[0m in \u001b[0;36msimilar\u001b[0;34m(self, i, n)\u001b[0m\n\u001b[1;32m    153\u001b[0m         \u001b[0;32mif\u001b[0m \u001b[0;32mnot\u001b[0m \u001b[0mself\u001b[0m\u001b[0;34m.\u001b[0m\u001b[0mget_matrix_similarity\u001b[0m\u001b[0;34m(\u001b[0m\u001b[0;34m)\u001b[0m\u001b[0;34m:\u001b[0m\u001b[0;34m\u001b[0m\u001b[0m\n\u001b[1;32m    154\u001b[0m             \u001b[0mself\u001b[0m\u001b[0;34m.\u001b[0m\u001b[0mcompute\u001b[0m\u001b[0;34m(\u001b[0m\u001b[0;34m)\u001b[0m\u001b[0;34m\u001b[0m\u001b[0m\n\u001b[0;32m--> 155\u001b[0;31m         \u001b[0;32mreturn\u001b[0m \u001b[0mself\u001b[0m\u001b[0;34m.\u001b[0m\u001b[0m_get_row_similarity\u001b[0m\u001b[0;34m(\u001b[0m\u001b[0mi\u001b[0m\u001b[0;34m)\u001b[0m\u001b[0;34m.\u001b[0m\u001b[0mtop_items\u001b[0m\u001b[0;34m(\u001b[0m\u001b[0mn\u001b[0m\u001b[0;34m)\u001b[0m\u001b[0;34m\u001b[0m\u001b[0m\n\u001b[0m\u001b[1;32m    156\u001b[0m \u001b[0;34m\u001b[0m\u001b[0m\n\u001b[1;32m    157\u001b[0m     \u001b[0;32mdef\u001b[0m \u001b[0msimilarity\u001b[0m\u001b[0;34m(\u001b[0m\u001b[0mself\u001b[0m\u001b[0;34m,\u001b[0m \u001b[0mi\u001b[0m\u001b[0;34m,\u001b[0m \u001b[0mj\u001b[0m\u001b[0;34m)\u001b[0m\u001b[0;34m:\u001b[0m\u001b[0;34m\u001b[0m\u001b[0m\n",
        "\u001b[0;32m/Users/Craig_Sakuma/anaconda/lib/python2.7/site-packages/python_recsys-0.2-py2.7.egg/recsys/algorithm/baseclass.pyc\u001b[0m in \u001b[0;36m_get_row_similarity\u001b[0;34m(self, i)\u001b[0m\n\u001b[1;32m    139\u001b[0m             \u001b[0mself\u001b[0m\u001b[0;34m.\u001b[0m\u001b[0mcompute\u001b[0m\u001b[0;34m(\u001b[0m\u001b[0;34m)\u001b[0m\u001b[0;34m\u001b[0m\u001b[0m\n\u001b[1;32m    140\u001b[0m         \u001b[0;32mtry\u001b[0m\u001b[0;34m:\u001b[0m\u001b[0;34m\u001b[0m\u001b[0m\n\u001b[0;32m--> 141\u001b[0;31m             \u001b[0;32mreturn\u001b[0m \u001b[0mself\u001b[0m\u001b[0;34m.\u001b[0m\u001b[0mget_matrix_similarity\u001b[0m\u001b[0;34m(\u001b[0m\u001b[0;34m)\u001b[0m\u001b[0;34m.\u001b[0m\u001b[0mget_row\u001b[0m\u001b[0;34m(\u001b[0m\u001b[0mi\u001b[0m\u001b[0;34m)\u001b[0m\u001b[0;34m\u001b[0m\u001b[0m\n\u001b[0m\u001b[1;32m    142\u001b[0m         \u001b[0;32mexcept\u001b[0m \u001b[0mKeyError\u001b[0m\u001b[0;34m:\u001b[0m\u001b[0;34m\u001b[0m\u001b[0m\n\u001b[1;32m    143\u001b[0m             \u001b[0;32mraise\u001b[0m \u001b[0mKeyError\u001b[0m\u001b[0;34m(\u001b[0m\u001b[0;34m\"%s not found!\"\u001b[0m \u001b[0;34m%\u001b[0m \u001b[0mi\u001b[0m\u001b[0;34m)\u001b[0m\u001b[0;34m\u001b[0m\u001b[0m\n",
        "\u001b[0;32m/Users/Craig_Sakuma/anaconda/lib/python2.7/site-packages/python_recsys-0.2-py2.7.egg/recsys/algorithm/matrix.pyc\u001b[0m in \u001b[0;36mget_row\u001b[0;34m(self, i)\u001b[0m\n\u001b[1;32m     37\u001b[0m     \u001b[0;32mdef\u001b[0m \u001b[0mget_row\u001b[0m\u001b[0;34m(\u001b[0m\u001b[0mself\u001b[0m\u001b[0;34m,\u001b[0m \u001b[0mi\u001b[0m\u001b[0;34m)\u001b[0m\u001b[0;34m:\u001b[0m\u001b[0;34m\u001b[0m\u001b[0m\n\u001b[1;32m     38\u001b[0m         \u001b[0;32mif\u001b[0m \u001b[0mself\u001b[0m\u001b[0;34m.\u001b[0m\u001b[0mempty\u001b[0m\u001b[0;34m(\u001b[0m\u001b[0;34m)\u001b[0m \u001b[0;32mor\u001b[0m \u001b[0;32mnot\u001b[0m \u001b[0mself\u001b[0m\u001b[0;34m.\u001b[0m\u001b[0m_matrix\u001b[0m\u001b[0;34m.\u001b[0m\u001b[0mcol_labels\u001b[0m\u001b[0;34m:\u001b[0m\u001b[0;34m\u001b[0m\u001b[0m\n\u001b[0;32m---> 39\u001b[0;31m             \u001b[0;32mraise\u001b[0m \u001b[0mValueError\u001b[0m\u001b[0;34m(\u001b[0m\u001b[0;34m'Matrix is empty (or has no columns!)'\u001b[0m\u001b[0;34m)\u001b[0m\u001b[0;34m\u001b[0m\u001b[0m\n\u001b[0m\u001b[1;32m     40\u001b[0m         \u001b[0;32mreturn\u001b[0m \u001b[0mself\u001b[0m\u001b[0;34m.\u001b[0m\u001b[0m_matrix\u001b[0m\u001b[0;34m.\u001b[0m\u001b[0mrow_named\u001b[0m\u001b[0;34m(\u001b[0m\u001b[0mi\u001b[0m\u001b[0;34m)\u001b[0m\u001b[0;34m\u001b[0m\u001b[0m\n\u001b[1;32m     41\u001b[0m \u001b[0;34m\u001b[0m\u001b[0m\n",
        "\u001b[0;31mValueError\u001b[0m: Matrix is empty (or has no columns!)"
       ]
      }
     ],
     "prompt_number": 30
    },
    {
     "cell_type": "code",
     "collapsed": false,
     "input": [
      "def Score_Recs(test,svd):\n",
      "    rmse = RMSE()\n",
      "    mae = MAE()\n",
      "    n=0\n",
      "\n",
      "    for rating, restaurant, category in test.get():\n",
      "        #try:\n",
      "        n += 1\n",
      "        print n\n",
      "        pred_rating = 0\n",
      "        pred_rating = svd.predict(restaurant, category)\n",
      "            #rmse.add(rating, pred_rating)\n",
      "            #mae.add(rating, pred_rating)\n",
      "        print pred_rating\n",
      "        #except KeyError:\n",
      "        #    continue\n",
      "\n",
      "    #return rmse.compute(), mae.compute()\n",
      "\n",
      "Score_Recs(test,svd)    \n",
      "    \n",
      "#RMSE_recs, MAE_recs = Score_Recs(test,svd)\n",
      "#print \"RMSE is %f\" % (RMSE_recs)\n",
      "#print \"MAE is %f \\n\" % (MAE_recs)\n"
     ],
     "language": "python",
     "metadata": {},
     "outputs": []
    },
    {
     "cell_type": "code",
     "collapsed": false,
     "input": [
      "\"\"\"def Score_Recs_Iterate(filename, percent_train=20, iterations=10):\n",
      "    RMSE_recs = []\n",
      "    MAE_recs = []\n",
      "    for n in range(iterations):\n",
      "        train, test = [], []\n",
      "        train, test = LoadData(filename,PERCENT_TRAIN=percent_train)\n",
      "        svd_val = SVDcompute(train)\n",
      "        temp_RMSE, temp_MAE = Score_Recs(test, svd_val)\n",
      "        RMSE_recs.append(temp_RMSE)\n",
      "        MAE_recs.append(temp_MAE)\n",
      "    \n",
      "    print \"For %s with %d percent training and %d iterations:\" % (filename, percent_train, iterations)\n",
      "    print \"Average RMSE is %f\" % np.mean(RMSE_recs)\n",
      "    print \"Average MAE is %f \\n\" % np.mean(MAE_recs)\n",
      "    return filename, percent_train, iterations, np.mean(RMSE_recs), np.mean(MAE_recs)\n",
      "\n",
      "test_sri = Score_Recs_Iterate('business_categories.csv',percent_train=20, iterations=10)\"\"\""
     ],
     "language": "python",
     "metadata": {},
     "outputs": []
    },
    {
     "cell_type": "code",
     "collapsed": false,
     "input": [
      "pizza_places = svd.similar('pwpl-rxwNRQdgqFz_-qMPg',n=100)"
     ],
     "language": "python",
     "metadata": {},
     "outputs": []
    },
    {
     "cell_type": "code",
     "collapsed": false,
     "input": [
      "db = sqlite3.connect('yelp.db')\n",
      "c = db.cursor()\n",
      "pizza_data = []\n",
      "rest_data = []\n",
      "for i in pizza_places:    \n",
      "    c.execute(\"SELECT name, stars, review_count from business WHERE business_id = ?\", (i[0],))\n",
      "    pizza_data.append(c.fetchone())\n",
      "for i in pizza_places:    \n",
      "    c.execute(\"SELECT name, category from business_categories WHERE business_id = ?\", (i[0],))\n",
      "    pizza_data.append(c.fetchone())"
     ],
     "language": "python",
     "metadata": {},
     "outputs": []
    },
    {
     "cell_type": "code",
     "collapsed": false,
     "input": [
      "for i,j in pizza_data,rest_data:\n",
      "    print i\n",
      "    print j\n",
      "    print \"\\n\"\n"
     ],
     "language": "python",
     "metadata": {},
     "outputs": []
    },
    {
     "cell_type": "code",
     "collapsed": false,
     "input": [],
     "language": "python",
     "metadata": {},
     "outputs": []
    }
   ],
   "metadata": {}
  }
 ]
}