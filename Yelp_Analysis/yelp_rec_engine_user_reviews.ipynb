{
 "metadata": {
  "name": ""
 },
 "nbformat": 3,
 "nbformat_minor": 0,
 "worksheets": [
  {
   "cells": [
    {
     "cell_type": "code",
     "collapsed": false,
     "input": [
      "#!/usr/local/bin/python\n",
      "import pdb\n",
      "import json\n",
      "import csv\n",
      "import recsys.algorithm\n",
      "from recsys.algorithm.factorize import SVD\n",
      "from recsys.datamodel.data import Data\n",
      "from recsys.evaluation.prediction import RMSE, MAE\n",
      "from recsys.utils.svdlibc import SVDLIBC\n",
      "import json\n",
      "import sqlite3\n",
      "import sys\n",
      "import numpy as np\n",
      "import pandas as pd\n",
      "\n"
     ],
     "language": "python",
     "metadata": {},
     "outputs": [],
     "prompt_number": 34
    },
    {
     "cell_type": "code",
     "collapsed": false,
     "input": [
      "def CreateCSV(filename,database,min_reviews):\n",
      "    # connect to database\n",
      "    db = sqlite3.connect(database)\n",
      "    c = db.cursor()\n",
      "    c.execute(\"SELECT review.user_id, review.business_id, review.stars from review, business_categories, user WHERE review.user_id=user.user_id AND business_categories.category = 'Restaurants' AND user.review_count > ? AND review.business_id = business_categories.business_id\", (min_reviews,))\n",
      "    data = c.fetchall()\n",
      "    db.close()\n",
      "\n",
      "    csvfile = open(filename, 'wb')\n",
      "    csvwriter = csv.writer(csvfile)    \n",
      "    for i in range(len(data)):\n",
      "        csvwriter.writerow(data[i])\n",
      "    csvfile.close()\n",
      "    print \"%s was created from %s using the following query:\" % (filename, database)\n",
      "    print \"      SELECT user_id, business_id, stars from review, user WHERE review.user_id=user.user_id AND user.review_count > %s\" % min_reviews\n",
      "    \n",
      "    "
     ],
     "language": "python",
     "metadata": {},
     "outputs": [],
     "prompt_number": 18
    },
    {
     "cell_type": "code",
     "collapsed": false,
     "input": [
      "data = 'yelp.db'\n",
      "\n",
      "csv_file_list = []\n",
      "for i in [0,10,20,30,40,50,100,150,200]:\n",
      "    csv_filename = 'reviews_with_at_least_'+str(i)+'.csv'\n",
      "    min_reviews = i\n",
      "    CreateCSV(csv_filename,data,min_reviews)\n",
      "    csv_file_list.append(csv_filename)\n",
      "    "
     ],
     "language": "python",
     "metadata": {},
     "outputs": [
      {
       "output_type": "stream",
       "stream": "stdout",
       "text": [
        "reviews_with_at_least_0.csv was created from yelp.db using the following query:\n",
        "      SELECT user_id, business_id, stars from review, user WHERE review.user_id=user.user_id AND user.review_count > 0\n",
        "reviews_with_at_least_10.csv was created from yelp.db using the following query:"
       ]
      },
      {
       "output_type": "stream",
       "stream": "stdout",
       "text": [
        "\n",
        "      SELECT user_id, business_id, stars from review, user WHERE review.user_id=user.user_id AND user.review_count > 10\n",
        "reviews_with_at_least_20.csv was created from yelp.db using the following query:"
       ]
      },
      {
       "output_type": "stream",
       "stream": "stdout",
       "text": [
        "\n",
        "      SELECT user_id, business_id, stars from review, user WHERE review.user_id=user.user_id AND user.review_count > 20\n",
        "reviews_with_at_least_30.csv was created from yelp.db using the following query:"
       ]
      },
      {
       "output_type": "stream",
       "stream": "stdout",
       "text": [
        "\n",
        "      SELECT user_id, business_id, stars from review, user WHERE review.user_id=user.user_id AND user.review_count > 30\n",
        "reviews_with_at_least_40.csv was created from yelp.db using the following query:"
       ]
      },
      {
       "output_type": "stream",
       "stream": "stdout",
       "text": [
        "\n",
        "      SELECT user_id, business_id, stars from review, user WHERE review.user_id=user.user_id AND user.review_count > 40\n",
        "reviews_with_at_least_50.csv was created from yelp.db using the following query:"
       ]
      },
      {
       "output_type": "stream",
       "stream": "stdout",
       "text": [
        "\n",
        "      SELECT user_id, business_id, stars from review, user WHERE review.user_id=user.user_id AND user.review_count > 50\n",
        "reviews_with_at_least_100.csv was created from yelp.db using the following query:"
       ]
      },
      {
       "output_type": "stream",
       "stream": "stdout",
       "text": [
        "\n",
        "      SELECT user_id, business_id, stars from review, user WHERE review.user_id=user.user_id AND user.review_count > 100\n",
        "reviews_with_at_least_150.csv was created from yelp.db using the following query:"
       ]
      },
      {
       "output_type": "stream",
       "stream": "stdout",
       "text": [
        "\n",
        "      SELECT user_id, business_id, stars from review, user WHERE review.user_id=user.user_id AND user.review_count > 150\n",
        "reviews_with_at_least_200.csv was created from yelp.db using the following query:"
       ]
      },
      {
       "output_type": "stream",
       "stream": "stdout",
       "text": [
        "\n",
        "      SELECT user_id, business_id, stars from review, user WHERE review.user_id=user.user_id AND user.review_count > 200\n"
       ]
      }
     ],
     "prompt_number": 19
    },
    {
     "cell_type": "code",
     "collapsed": false,
     "input": [
      "print csv_file_list"
     ],
     "language": "python",
     "metadata": {},
     "outputs": [
      {
       "output_type": "stream",
       "stream": "stdout",
       "text": [
        "['reviews_with_at_least_0.csv', 'reviews_with_at_least_10.csv', 'reviews_with_at_least_20.csv', 'reviews_with_at_least_30.csv', 'reviews_with_at_least_40.csv', 'reviews_with_at_least_50.csv', 'reviews_with_at_least_100.csv', 'reviews_with_at_least_150.csv', 'reviews_with_at_least_200.csv']\n"
       ]
      }
     ],
     "prompt_number": 20
    },
    {
     "cell_type": "code",
     "collapsed": false,
     "input": [
      "def LoadData(filename, PERCENT_TRAIN=20):\n",
      "    data = Data()\n",
      "    dat_file = filename\n",
      "    data.load(dat_file, sep=',',format={'col': 1, 'row': 0, 'value': 2,'ids':int})\n",
      "    train, test = data.split_train_test(percent=PERCENT_TRAIN)\n",
      "    return train, test\n",
      "\n",
      "train, test = LoadData('reviews_with_at_least_0.csv')\n"
     ],
     "language": "python",
     "metadata": {},
     "outputs": [],
     "prompt_number": 21
    },
    {
     "cell_type": "code",
     "collapsed": false,
     "input": [
      "def SVDcompute(train):\n",
      "    svd = SVD()\n",
      "    svd.set_data(train)\n",
      "    k = 100\n",
      "    svd.compute(k, min_values=1, pre_normalize=None,\n",
      "                mean_center=True, post_normalize=True)\n",
      "    return svd\n",
      "\n",
      "svd = SVDcompute(train)"
     ],
     "language": "python",
     "metadata": {},
     "outputs": [],
     "prompt_number": 22
    },
    {
     "cell_type": "code",
     "collapsed": false,
     "input": [
      "def SVDrecommend(user_id):\n",
      "    recRestaurant = svd.recommend(user_id,n=30)\n",
      "    for ind, score in recRestaurant:\n",
      "        print 'restaurant %s' % ind\n",
      "    return recRestaurant\n",
      "\n",
      "#user_id =   \n",
      "#print '\\nfinding restaurants to recommend %s' % user_id\n",
      "#recomend_restaurant = SVDrecommend(user_id)\n"
     ],
     "language": "python",
     "metadata": {},
     "outputs": [],
     "prompt_number": 23
    },
    {
     "cell_type": "code",
     "collapsed": false,
     "input": [
      "def Score_Recs(test):\n",
      "    rmse = RMSE()\n",
      "    mae = MAE()\n",
      "\n",
      "    for rating, item_id, user_id in test.get():\n",
      "        try:\n",
      "            pred_rating = svd.predict(item_id, user_id)\n",
      "            rmse.add(rating, pred_rating)\n",
      "            mae.add(rating, pred_rating)\n",
      "        except KeyError:\n",
      "            continue\n",
      "\n",
      "    return rmse.compute(), mae.compute()\n",
      "print Score_Recs(test)"
     ],
     "language": "python",
     "metadata": {},
     "outputs": [
      {
       "output_type": "stream",
       "stream": "stdout",
       "text": [
        "(1.329119, 0.995369)\n"
       ]
      }
     ],
     "prompt_number": 24
    },
    {
     "cell_type": "code",
     "collapsed": false,
     "input": [
      "def Score_Recs_Iterate(filename, percent_train=20, iterations=10):\n",
      "    RMSE_recs = []\n",
      "    MAE_recs = []\n",
      "    for n in range(iterations):\n",
      "        train, test = LoadData(filename,PERCENT_TRAIN=percent_train)\n",
      "        svd = SVDcompute(train)\n",
      "        temp_RMSE, temp_MAE = Score_Recs(test)\n",
      "        RMSE_recs.append(temp_RMSE)\n",
      "        MAE_recs.append(temp_MAE)\n",
      "    \n",
      "    print \"For %s with %d percent training and %d iterations:\" % (filename, percent_train, iterations)\n",
      "    print \"Average RMSE is %f\" % np.mean(RMSE_recs)\n",
      "    print \"Average MAE is %f \\n\" % np.mean(MAE_recs)\n",
      "    return filename, percent_train, iterations, np.mean(RMSE_recs), np.mean(MAE_recs)\n",
      "\n",
      "test_sri = Score_Recs_Iterate('reviews_with_at_least_0.csv')"
     ],
     "language": "python",
     "metadata": {},
     "outputs": [
      {
       "output_type": "stream",
       "stream": "stdout",
       "text": [
        "For reviews_with_at_least_0.csv with 20 percent training and 10 iterations:\n",
        "Average RMSE is 1.242995\n",
        "Average MAE is 0.903617 \n",
        "\n"
       ]
      }
     ],
     "prompt_number": 25
    },
    {
     "cell_type": "code",
     "collapsed": false,
     "input": [
      "Final_Results = pd.DataFrame()\n",
      "files_final_list = []\n",
      "percent_train_final_list = []\n",
      "iterations_final_list = []\n",
      "RMSE_final_list = []\n",
      "MAE_final_list = []\n",
      "\n",
      "for i in csv_file_list:\n",
      "    temp_filename, temp_percent_train, temp_iterations, temp_RMSE, temp_MAE = Score_Recs_Iterate(i)\n",
      "    files_final_list.append(temp_filename)\n",
      "    percent_train_final_list.append(temp_percent_train)\n",
      "    iterations_final_list.append(temp_iterations)\n",
      "    RMSE_final_list.append(temp_RMSE)\n",
      "    MAE_final_list.append(temp_MAE)\n",
      "    "
     ],
     "language": "python",
     "metadata": {},
     "outputs": [
      {
       "output_type": "stream",
       "stream": "stdout",
       "text": [
        "For reviews_with_at_least_0.csv with 20 percent training and 10 iterations:\n",
        "Average RMSE is 1.243918\n",
        "Average MAE is 0.903889 \n",
        "\n",
        "For reviews_with_at_least_10.csv with 20 percent training and 10 iterations:"
       ]
      },
      {
       "output_type": "stream",
       "stream": "stdout",
       "text": [
        "\n",
        "Average RMSE is 1.217014\n",
        "Average MAE is 0.894749 \n",
        "\n",
        "For reviews_with_at_least_20.csv with 20 percent training and 10 iterations:"
       ]
      },
      {
       "output_type": "stream",
       "stream": "stdout",
       "text": [
        "\n",
        "Average RMSE is 1.180904\n",
        "Average MAE is 0.871202 \n",
        "\n",
        "For reviews_with_at_least_30.csv with 20 percent training and 10 iterations:"
       ]
      },
      {
       "output_type": "stream",
       "stream": "stdout",
       "text": [
        "\n",
        "Average RMSE is 1.151867\n",
        "Average MAE is 0.850745 \n",
        "\n",
        "For reviews_with_at_least_40.csv with 20 percent training and 10 iterations:"
       ]
      },
      {
       "output_type": "stream",
       "stream": "stdout",
       "text": [
        "\n",
        "Average RMSE is 1.132667\n",
        "Average MAE is 0.837104 \n",
        "\n",
        "For reviews_with_at_least_50.csv with 20 percent training and 10 iterations:"
       ]
      },
      {
       "output_type": "stream",
       "stream": "stdout",
       "text": [
        "\n",
        "Average RMSE is 1.122175\n",
        "Average MAE is 0.827339 \n",
        "\n",
        "For reviews_with_at_least_100.csv with 20 percent training and 10 iterations:"
       ]
      },
      {
       "output_type": "stream",
       "stream": "stdout",
       "text": [
        "\n",
        "Average RMSE is 1.102393\n",
        "Average MAE is 0.805048 \n",
        "\n",
        "For reviews_with_at_least_150.csv with 20 percent training and 10 iterations:"
       ]
      },
      {
       "output_type": "stream",
       "stream": "stdout",
       "text": [
        "\n",
        "Average RMSE is 1.114398\n",
        "Average MAE is 0.803653 \n",
        "\n",
        "For reviews_with_at_least_200.csv with 20 percent training and 10 iterations:"
       ]
      },
      {
       "output_type": "stream",
       "stream": "stdout",
       "text": [
        "\n",
        "Average RMSE is 1.131583\n",
        "Average MAE is 0.806183 \n",
        "\n"
       ]
      }
     ],
     "prompt_number": 26
    },
    {
     "cell_type": "code",
     "collapsed": false,
     "input": [
      "svd.similar('r-t7IiTSD0QZdt8lOUCqeQ',n=20)"
     ],
     "language": "python",
     "metadata": {},
     "outputs": [
      {
       "ename": "KeyError",
       "evalue": "'r-t7IiTSD0QZdt8lOUCqeQ not found!'",
       "output_type": "pyerr",
       "traceback": [
        "\u001b[0;31m---------------------------------------------------------------------------\u001b[0m\n\u001b[0;31mKeyError\u001b[0m                                  Traceback (most recent call last)",
        "\u001b[0;32m<ipython-input-35-41746454097f>\u001b[0m in \u001b[0;36m<module>\u001b[0;34m()\u001b[0m\n\u001b[0;32m----> 1\u001b[0;31m \u001b[0msvd\u001b[0m\u001b[0;34m.\u001b[0m\u001b[0msimilar\u001b[0m\u001b[0;34m(\u001b[0m\u001b[0;34m'r-t7IiTSD0QZdt8lOUCqeQ'\u001b[0m\u001b[0;34m,\u001b[0m\u001b[0mn\u001b[0m\u001b[0;34m=\u001b[0m\u001b[0;36m20\u001b[0m\u001b[0;34m)\u001b[0m\u001b[0;34m\u001b[0m\u001b[0m\n\u001b[0m",
        "\u001b[0;32m/Users/Craig_Sakuma/anaconda/lib/python2.7/site-packages/python_recsys-0.2-py2.7.egg/recsys/algorithm/baseclass.pyc\u001b[0m in \u001b[0;36msimilar\u001b[0;34m(self, i, n)\u001b[0m\n\u001b[1;32m    153\u001b[0m         \u001b[0;32mif\u001b[0m \u001b[0;32mnot\u001b[0m \u001b[0mself\u001b[0m\u001b[0;34m.\u001b[0m\u001b[0mget_matrix_similarity\u001b[0m\u001b[0;34m(\u001b[0m\u001b[0;34m)\u001b[0m\u001b[0;34m:\u001b[0m\u001b[0;34m\u001b[0m\u001b[0m\n\u001b[1;32m    154\u001b[0m             \u001b[0mself\u001b[0m\u001b[0;34m.\u001b[0m\u001b[0mcompute\u001b[0m\u001b[0;34m(\u001b[0m\u001b[0;34m)\u001b[0m\u001b[0;34m\u001b[0m\u001b[0m\n\u001b[0;32m--> 155\u001b[0;31m         \u001b[0;32mreturn\u001b[0m \u001b[0mself\u001b[0m\u001b[0;34m.\u001b[0m\u001b[0m_get_row_similarity\u001b[0m\u001b[0;34m(\u001b[0m\u001b[0mi\u001b[0m\u001b[0;34m)\u001b[0m\u001b[0;34m.\u001b[0m\u001b[0mtop_items\u001b[0m\u001b[0;34m(\u001b[0m\u001b[0mn\u001b[0m\u001b[0;34m)\u001b[0m\u001b[0;34m\u001b[0m\u001b[0m\n\u001b[0m\u001b[1;32m    156\u001b[0m \u001b[0;34m\u001b[0m\u001b[0m\n\u001b[1;32m    157\u001b[0m     \u001b[0;32mdef\u001b[0m \u001b[0msimilarity\u001b[0m\u001b[0;34m(\u001b[0m\u001b[0mself\u001b[0m\u001b[0;34m,\u001b[0m \u001b[0mi\u001b[0m\u001b[0;34m,\u001b[0m \u001b[0mj\u001b[0m\u001b[0;34m)\u001b[0m\u001b[0;34m:\u001b[0m\u001b[0;34m\u001b[0m\u001b[0m\n",
        "\u001b[0;32m/Users/Craig_Sakuma/anaconda/lib/python2.7/site-packages/python_recsys-0.2-py2.7.egg/recsys/algorithm/baseclass.pyc\u001b[0m in \u001b[0;36m_get_row_similarity\u001b[0;34m(self, i)\u001b[0m\n\u001b[1;32m    141\u001b[0m             \u001b[0;32mreturn\u001b[0m \u001b[0mself\u001b[0m\u001b[0;34m.\u001b[0m\u001b[0mget_matrix_similarity\u001b[0m\u001b[0;34m(\u001b[0m\u001b[0;34m)\u001b[0m\u001b[0;34m.\u001b[0m\u001b[0mget_row\u001b[0m\u001b[0;34m(\u001b[0m\u001b[0mi\u001b[0m\u001b[0;34m)\u001b[0m\u001b[0;34m\u001b[0m\u001b[0m\n\u001b[1;32m    142\u001b[0m         \u001b[0;32mexcept\u001b[0m \u001b[0mKeyError\u001b[0m\u001b[0;34m:\u001b[0m\u001b[0;34m\u001b[0m\u001b[0m\n\u001b[0;32m--> 143\u001b[0;31m             \u001b[0;32mraise\u001b[0m \u001b[0mKeyError\u001b[0m\u001b[0;34m(\u001b[0m\u001b[0;34m\"%s not found!\"\u001b[0m \u001b[0;34m%\u001b[0m \u001b[0mi\u001b[0m\u001b[0;34m)\u001b[0m\u001b[0;34m\u001b[0m\u001b[0m\n\u001b[0m\u001b[1;32m    144\u001b[0m \u001b[0;34m\u001b[0m\u001b[0m\n\u001b[1;32m    145\u001b[0m     \u001b[0;32mdef\u001b[0m \u001b[0msimilar\u001b[0m\u001b[0;34m(\u001b[0m\u001b[0mself\u001b[0m\u001b[0;34m,\u001b[0m \u001b[0mi\u001b[0m\u001b[0;34m,\u001b[0m \u001b[0mn\u001b[0m\u001b[0;34m=\u001b[0m\u001b[0;36m10\u001b[0m\u001b[0;34m)\u001b[0m\u001b[0;34m:\u001b[0m\u001b[0;34m\u001b[0m\u001b[0m\n",
        "\u001b[0;31mKeyError\u001b[0m: 'r-t7IiTSD0QZdt8lOUCqeQ not found!'"
       ]
      }
     ],
     "prompt_number": 35
    },
    {
     "cell_type": "code",
     "collapsed": false,
     "input": [
      "data = Data()\n",
      "dat_file = 'reviews_with_at_least_0.csv'\n",
      "data.load(dat_file, sep=',',format={'col': 0, 'row': 1, 'value': 2,'ids':int})\n",
      "train, test = data.split_train_test(percent=20)\n"
     ],
     "language": "python",
     "metadata": {},
     "outputs": [],
     "prompt_number": 36
    },
    {
     "cell_type": "code",
     "collapsed": false,
     "input": [
      "svd = SVDcompute(train)\n",
      "print svd\n",
      "pizza_places = svd.similar('pwpl-rxwNRQdgqFz_-qMPg',n=100)"
     ],
     "language": "python",
     "metadata": {},
     "outputs": [
      {
       "output_type": "stream",
       "stream": "stdout",
       "text": [
        "M':<ReconstructedMatrix: 4692 by 21286>\n",
        "A row (U):[xFG4Ca2HHmbxDTkMlmHnjQ => 0.00176079740467, TWjDnKexHSp0U3UQ3W01Kw => -8.30680620227e-06, ZBnMffcLytsc8pGt5fTOHA => -2.8608844296e-05, wUEp87FqOB9ew27Iz6zk_w => -0.00296719546376, 5OiNZAaTvKz-dAtHIGm7Kg => -1.91884819228e-05, qRo9gHN5OiV1-peDuhCh-g => 0.00804366456332, yuPBS3fak77lgwO_9SXVYQ => 0.000181221637647, N4BnjZFAuuAUTjxs93SYlg => -5.48881465276e-05, yI15VsYAgcFOoasstMO4UA => -0.000401786406858, VovMsKbDF2Msflj1zPYF0A => 0.000208506062817, ...]\n",
        "A col (V):[ -1.81775378e-03   9.29731829e-03   6.03726588e-04   9.14987271e-05\n",
        "   3.28418278e-03  -1.11727063e-03   1.96457400e-02  -1.65254817e-03\n",
        "   4.23680081e-04   2.23353453e-03  -3.64014691e-03  -1.33424987e-03\n",
        "  -5.95074911e-03   5.41453358e-03   1.34476496e-03  -8.54195584e-03\n",
        "   5.26560928e-03   7.13253341e-04  -2.79431991e-04  -5.66333110e-03\n",
        "  -1.38485878e-04   7.12903881e-03  -8.73719586e-03  -7.25314051e-03\n",
        "  -1.22444955e-02  -8.93434902e-03   2.94172032e-03   5.42721184e-03\n",
        "   2.57914488e-02  -4.08689825e-03   2.86966371e-02  -2.09379041e-03\n",
        "   1.31540159e-02   2.62455686e-04   2.34313132e-02   3.52923327e-02\n",
        "   6.60095181e-02  -4.30394824e-02  -2.38233088e-02   7.12821121e-03\n",
        "   2.89019035e-02  -5.36505872e-03  -2.08236186e-02  -2.97985579e-02\n",
        "   2.87994891e-03   1.94731946e-02  -3.87733033e-02   3.74313342e-02\n",
        "   7.22757130e-03  -9.95110349e-03  -3.94360758e-02   3.24279337e-02\n",
        "   1.46220185e-02  -2.86727601e-03  -5.04591051e-03  -2.59583549e-02\n",
        "   1.68815074e-02  -1.23761668e-02   1.61691120e-02   4.42196399e-03\n",
        "   1.85367842e-02  -2.72027629e-03  -3.23879513e-04   4.38930588e-03\n",
        "  -1.43975065e-02   3.12920127e-04  -1.76199290e-02  -6.16918312e-03\n",
        "  -1.76173256e-02   7.42184615e-03  -2.91632746e-03   7.87418242e-03\n",
        "   1.86837563e-02  -2.01987221e-02  -2.11207813e-04  -8.26403904e-03\n",
        "  -2.00110244e-02  -2.61190597e-02  -2.43984218e-02   2.26441481e-02\n",
        "   4.38703943e-02  -1.65427282e-02   1.35231985e-02  -2.55009908e-02\n",
        "  -2.72204798e-02  -3.84866571e-03   5.24605381e-03  -1.80165623e-02\n",
        "  -1.43637782e-02   2.37545216e-02   2.12329279e-02   9.05839777e-03\n",
        "  -3.97306143e-02  -1.47753590e-03   2.64313881e-02   1.09210700e-02\n",
        "   5.54610611e-02  -2.32952063e-02   1.31125248e-02  -1.02091977e-02]\n"
       ]
      }
     ],
     "prompt_number": 39
    },
    {
     "cell_type": "code",
     "collapsed": false,
     "input": [
      "db = sqlite3.connect('yelp.db')\n",
      "c = db.cursor()\n",
      "pizza_data = []\n",
      "for i in pizza_places:    \n",
      "    #c.execute(\"SELECT business.name from business, business_categories WHERE business.business_id = ? AND business_categories.business_id = business.business_id AND business_categories.category = ?\", (i[0],'Pizza'))\n",
      "    c.execute(\"SELECT business.name from business WHERE business.business_id = ? \", (i[0],))\n",
      "    pizza_data.append(c.fetchone())\n"
     ],
     "language": "python",
     "metadata": {},
     "outputs": [],
     "prompt_number": 30
    },
    {
     "cell_type": "code",
     "collapsed": false,
     "input": [
      "print pizza_data\n"
     ],
     "language": "python",
     "metadata": {},
     "outputs": [
      {
       "output_type": "stream",
       "stream": "stdout",
       "text": [
        "[(u\"Rubio's Fresh Mexican Grill\",), (u\"Arby's\",), (u'Cafe Azul',), (u\"Alfredo's Mexican Food\",), (u'Noh',), (u\"L'Academie Cafe at the Scottsdale Culinary Institute\",), (u'China Chef',), (u'Panda Express',), (u'32nd Cafe',), (u\"Carl's Jr.\",), (u'Red Lobster',), (u'Tosinos Mexican Grill',), (u'Subway',), (u'Midtown Grill',), (u\"Papa John's Pizza\",), (u\"Domino's Pizza\",), (u'McDonalds',), (u\"McDonald's\",), (u'Tastings Wine Bar and Bistro',), (u\"Papa Murphy's\",), (u'Taqueria Y Cenaduria Culiacan',), (u\"McDonald's\",), (u'Cafe At Sun City',), (u\"Johnnie's-Dee's Chicago Style Pizza\",), (u'Waffle House',), (u'Deluxburger',), (u'Panda Express',), (u'5 RCha Thai',), (u'Sprouts',), (u\"Taylor's Cafe\",), (u'Little Caesars',), (u'Pizza Hut',), (u'Tortas El Tri',), (u'Mi Tienda Latina',), (u'Sonic Drive-In',), (u'Chao',), (u'Taco Bell',), (u'Sonic Drive-In',), (u\"Hole 'n One\",), (u\"Arby's Roast Beef\",), (u'Wingstop',), (u\"Dillon's\",), (u'Dennys',), (u'Palm Court Restaurant at the Scottsdale Resort',), (u'McDonalds',), (u\"Domino's Pizza\",), (u\"Steve's Krazy Sub\",), (u'Caf\\xe9 Biblioteca',), (u'Flying Skillet Cafe',), (u'Panda Express',), (u'La Madeleine Country French Cafe',), (u\"McDonald's\",), (u'Subway',), (u'Hong Kong Chinese Cuisine',), (u'Subway',), (u'Los Betos Mexican Food',), (u'Road House Cafe',), (u'El Pollo Loco',), (u\"Carl's Jr\",), (u'Caf\\xe9 Allegro at MIM',), (u'Peoria Pines Restaurant and Bar',), (u'Chillies Bar And Grill',), (u'Chipotle Mexican Grill',), (u'International House of Pancakes',), (u'Steaks R US',), (u'El Goloso Hot Dogs',), (u'Baja Beach Bar',), (u'Hoot & Howl',), (u\"Hungry Howie's Pizza\",), (u\"JB's Restaurant\",), (u'Panda Express',), (u'Tropical Smoothie Cafe',), (u'Papa Murphys',), (u'Red Lobster',), (u'Panda Express',), (u'Restaurant Sinaloa',), (u'Sizzling Wok',), (u'Windy City Dogs',), (u'Little Caesars',), (u'Mi Pueblito Mexican Food',), (u\"Maryln's Fish & Chips\",), (u'Grand Buffet',), (u\"McDonald's\",), (u'Gluten Free Country Store',), (u'The Bamboo Club',), (u'Dennys',), (u'Jack in the Box',), (u'GreaterThan Coffee',), (u\"Wendy's\",), (u'Grill Square',), (u'Barrio Cafe',), (u'Taco Bell',), (u\"Chester's Chicken\",), (u\"Nino's Mexican Food Restaurant\",), (u'La Hacienda',), (u'24 Carrots Juice Bar & Cafe',), (u'The Good Egg',), (u'Village Inn',), (u\"Carrabba's Italian Grill\",), (u'Jack in the Box',)]\n"
       ]
      }
     ],
     "prompt_number": 31
    },
    {
     "cell_type": "code",
     "collapsed": false,
     "input": [],
     "language": "python",
     "metadata": {},
     "outputs": [],
     "prompt_number": 31
    }
   ],
   "metadata": {}
  }
 ]
}