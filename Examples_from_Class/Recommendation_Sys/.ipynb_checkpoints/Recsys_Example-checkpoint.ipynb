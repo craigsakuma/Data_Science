{
 "metadata": {
  "name": ""
 },
 "nbformat": 3,
 "nbformat_minor": 0,
 "worksheets": [
  {
   "cells": [
    {
     "cell_type": "code",
     "collapsed": false,
     "input": [
      "#!/usr/local/bin/python\n",
      "print 'importing modules'\n",
      "import pdb\n",
      "import json\n",
      "import recsys.algorithm\n",
      "from recsys.algorithm.factorize import SVD\n",
      "from recsys.datamodel.data import Data\n",
      "from recsys.evaluation.prediction import RMSE, MAE\n",
      "from recsys.utils.svdlibc import SVDLIBC\n"
     ],
     "language": "python",
     "metadata": {},
     "outputs": [
      {
       "output_type": "stream",
       "stream": "stdout",
       "text": [
        "importing modules\n"
       ]
      }
     ],
     "prompt_number": 6
    },
    {
     "cell_type": "code",
     "collapsed": false,
     "input": [
      "names = json.loads(\n",
      "    open('../../../Data_Sets/ml-1m/movie_dict.json').read())\n",
      "\n",
      "# names is a dictionary\n",
      "\n",
      "ITEMID = 1      # toy story\n",
      "# ITEMID = 1221   # godfather II\n",
      "\n",
      "MIN_RATING = 0.0\n",
      "MAX_RATING = 5.0\n",
      "USERID = 1\n",
      "\n",
      "pct_train = 0.5"
     ],
     "language": "python",
     "metadata": {},
     "outputs": [],
     "prompt_number": 7
    },
    {
     "cell_type": "code",
     "collapsed": false,
     "input": [
      "def SVDloadData():\n",
      "    svd = SVD()\n",
      "    recsys.algorithm.VERBOSE = True\n",
      "    dat_file = '../../../Data_Sets/ml-1m/ratings.dat'\n",
      "    svd.load_data(filename=dat_file, sep='::',\n",
      "                  format={'col': 0, 'row': 1, 'value': 2, 'ids': int})\n",
      "    print svd.get_matrix()\n",
      "    return svd\n",
      "\n",
      "print 'loading data'\n",
      "svd = SVDloadData()"
     ],
     "language": "python",
     "metadata": {},
     "outputs": [
      {
       "output_type": "stream",
       "stream": "stdout",
       "text": [
        "loading data\n",
        "SparseMatrix (3706 by 6040)\n",
        "         1          2          3          4          5        ...\n",
        "1193     5.000000   5.000000      ---        ---        ---\n",
        "661      3.000000      ---        ---        ---        ---\n",
        "914      3.000000      ---        ---        ---        ---\n",
        "3408     4.000000      ---        ---        ---     3.000000\n",
        "2355     5.000000      ---     5.000000      ---     5.000000\n",
        "1197     3.000000      ---     5.000000      ---        ---\n",
        "1287     5.000000      ---        ---        ---        ---\n",
        "2804     5.000000      ---        ---        ---        ---\n",
        "594      4.000000      ---        ---        ---        ---\n",
        "919      4.000000      ---        ---        ---     4.000000\n",
        "595      5.000000      ---        ---        ---        ---\n",
        "938      4.000000      ---        ---        ---        ---\n",
        "2398     4.000000      ---        ---        ---        ---\n",
        "2918     4.000000      ---        ---        ---        ---\n",
        "1035     5.000000      ---        ---        ---        ---\n",
        "2791     4.000000      ---        ---        ---        ---\n",
        "2687     3.000000      ---        ---        ---        ---\n",
        "2018     4.000000      ---        ---        ---        ---\n",
        "3105     5.000000   4.000000      ---        ---     2.000000\n",
        "2797     4.000000      ---        ---        ---        ---\n",
        "..."
       ]
      },
      {
       "output_type": "stream",
       "stream": "stdout",
       "text": [
        "\n"
       ]
      }
     ],
     "prompt_number": 8
    },
    {
     "cell_type": "code",
     "collapsed": false,
     "input": [
      "def SVDcompute(svd):\n",
      "    k = 100\n",
      "    svd.compute(k=k, min_values=10, pre_normalize=None,\n",
      "                mean_center=True, post_normalize=True)\n",
      "    return svd\n",
      "\n",
      "print 'computing svd'\n",
      "svd = SVDcompute(svd)"
     ],
     "language": "python",
     "metadata": {},
     "outputs": [
      {
       "output_type": "stream",
       "stream": "stdout",
       "text": [
        "computing svd\n"
       ]
      }
     ],
     "prompt_number": 9
    },
    {
     "cell_type": "code",
     "collapsed": false,
     "input": [
      "def SVDgetSimilar(svd, ITEMID1):\n",
      "    simMovie = svd.similar(ITEMID1,n=20)\n",
      "    print len(simMovie)\n",
      "    for ind, score in simMovie:\n",
      "        ind = str(ind)\n",
      "        print 'similar movie: %s' % names[ind]\n",
      "\n",
      "print '\\ngetting similar titles %s' % names[str(ITEMID)]\n",
      "SVDgetSimilar(svd, ITEMID)"
     ],
     "language": "python",
     "metadata": {},
     "outputs": [
      {
       "output_type": "stream",
       "stream": "stdout",
       "text": [
        "\n",
        "getting similar titles Toy Story (1995)\n",
        "20\n",
        "similar movie: Toy Story (1995)\n",
        "similar movie: Toy Story 2 (1999)\n",
        "similar movie: Bug's Life, A (1998)\n",
        "similar movie: Aladdin (1992)\n",
        "similar movie: Beauty and the Beast (1991)\n",
        "similar movie: Mulan (1998)\n",
        "similar movie: Lion King, The (1994)\n",
        "similar movie: Little Mermaid, The (1989)\n",
        "similar movie: Muppet Movie, The (1979)\n",
        "similar movie: Iron Giant, The (1999)\n",
        "similar movie: Wrong Trousers, The (1993)\n",
        "similar movie: Tarzan (1999)\n",
        "similar movie: Christmas Story, A (1983)\n",
        "similar movie: Hercules (1997)\n",
        "similar movie: Grand Day Out, A (1992)\n",
        "similar movie: Antz (1998)\n",
        "similar movie: Mary Poppins (1964)\n",
        "similar movie: Jungle Book, The (1967)\n",
        "similar movie: Robin Hood (1973)\n",
        "similar movie: Fantasia 2000 (1999)\n"
       ]
      }
     ],
     "prompt_number": 12
    },
    {
     "cell_type": "code",
     "collapsed": false,
     "input": [
      "def SVDpredict(ITEMID, USERID, MIN_RATING, MAX_RATING):\n",
      "    pred = svd.predict(ITEMID, USERID, MIN_RATING, MAX_RATING)\n",
      "    actual = svd.get_matrix().value(ITEMID, USERID)\n",
      "    print 'predicted rating = {0}'.format(pred)\n",
      "    print 'actual rating = {0}'.format(actual)\n",
      "\n",
      "\n",
      "print '\\npredicting rating'\n",
      "SVDpredict(ITEMID, USERID, MIN_RATING, MAX_RATING)"
     ],
     "language": "python",
     "metadata": {},
     "outputs": [
      {
       "output_type": "stream",
       "stream": "stdout",
       "text": [
        "\n",
        "predicting rating\n",
        "predicted rating = 5.0"
       ]
      },
      {
       "output_type": "stream",
       "stream": "stdout",
       "text": [
        "\n",
        "actual rating = 5.0\n"
       ]
      }
     ],
     "prompt_number": 13
    },
    {
     "cell_type": "code",
     "collapsed": false,
     "input": [
      "def SVDrecommend(ITEMID):\n",
      "    recMovie = svd.recommend(ITEMID)\n",
      "    for ind, score in recMovie:\n",
      "        print 'user %s' % ind\n",
      "\n",
      "\n",
      "print '\\nfinding users to recommend %s' % names[str(ITEMID)]\n",
      "SVDrecommend(ITEMID)"
     ],
     "language": "python",
     "metadata": {},
     "outputs": [
      {
       "output_type": "stream",
       "stream": "stdout",
       "text": [
        "\n",
        "finding users to recommend Toy Story (1995)\n",
        "user 869\n",
        "user 4086\n",
        "user 549\n",
        "user 1343\n",
        "user 1586\n",
        "user 840\n",
        "user 1676\n",
        "user 4595\n",
        "user 2691\n",
        "user 2665\n"
       ]
      }
     ],
     "prompt_number": 14
    },
    {
     "cell_type": "code",
     "collapsed": false,
     "input": [
      "def SVDloadData2():\n",
      "    dat_file = '../../../Data_Sets/ml-1m/ratings.dat'\n",
      "    pct_train = 0.5\n",
      "    data = Data()\n",
      "    data.load(dat_file, sep='::',\n",
      "              format={'col': 0, 'row': 1, 'value': 2, 'ids': int})\n",
      "    return data\n",
      "\n",
      "print '\\nloading data set 2'\n",
      "data = SVDloadData2()"
     ],
     "language": "python",
     "metadata": {},
     "outputs": [
      {
       "output_type": "stream",
       "stream": "stdout",
       "text": [
        "\n",
        "loading data set 2\n"
       ]
      }
     ],
     "prompt_number": 16
    },
    {
     "cell_type": "code",
     "collapsed": false,
     "input": [
      "def SVDtrain2(data, pct_train):\n",
      "    train, test = data.split_train_test(percent=pct_train)\n",
      "    K = 100\n",
      "    svd = SVD()\n",
      "    svd.set_data(train)\n",
      "    svd.compute(k=K, min_values=5, pre_normalize=None, mean_center=True,\n",
      "                post_normalize=True)\n",
      "    return svd, train, test\n",
      "\n",
      "print 'training'\n",
      "svd,train,test = SVDtrain2(data,pct_train)"
     ],
     "language": "python",
     "metadata": {},
     "outputs": [
      {
       "output_type": "stream",
       "stream": "stdout",
       "text": [
        "training\n"
       ]
      }
     ],
     "prompt_number": 19
    },
    {
     "cell_type": "code",
     "collapsed": false,
     "input": [
      "def SVDtest2(data, train, test, pct_train):\n",
      "\n",
      "    rmse = RMSE()\n",
      "    mae = MAE()\n",
      "    for rating, item_id, user_id in test.get():\n",
      "        try:\n",
      "            pred_rating = svd.predict(item_id, user_id)\n",
      "            rmse.add(rating, pred_rating)\n",
      "            mae.add(rating, pred_rating)\n",
      "        except KeyError:\n",
      "            continue\n",
      "\n",
      "    print 'RMSE=%s' % rmse.compute()\n",
      "    print 'MAE=%s\\n' % mae.compute()\n",
      "\n",
      "\n",
      "print 'evaluating performance'\n",
      "SVDtest2(svd,train,test,pct_train)\n",
      "print 'done!'"
     ],
     "language": "python",
     "metadata": {},
     "outputs": [
      {
       "output_type": "stream",
       "stream": "stdout",
       "text": [
        "evaluating performance\n",
        "RMSE=1.44006"
       ]
      },
      {
       "output_type": "stream",
       "stream": "stdout",
       "text": [
        "\n",
        "MAE=1.131567\n",
        "\n",
        "done!\n"
       ]
      }
     ],
     "prompt_number": 18
    },
    {
     "cell_type": "code",
     "collapsed": false,
     "input": [],
     "language": "python",
     "metadata": {},
     "outputs": []
    }
   ],
   "metadata": {}
  }
 ]
}