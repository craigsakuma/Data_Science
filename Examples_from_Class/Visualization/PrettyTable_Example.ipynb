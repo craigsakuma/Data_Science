{
 "metadata": {
  "name": ""
 },
 "nbformat": 3,
 "nbformat_minor": 0,
 "worksheets": [
  {
   "cells": [
    {
     "cell_type": "code",
     "collapsed": false,
     "input": [
      "# example of prettytable package in python\n",
      "# to install use \"pip install prettytable\n",
      "\n",
      "import prettytable as pt\n",
      "x = pt.PrettyTable([\"City Name\",\"Area\", \"Population\", \"Annual Rainfall\"])\n",
      "x.align[\"City Name\"] = \"l\" # Left align city names\n",
      "x.padding_width = 1 # One space between column edges and contents (default)\n",
      "x.add_row([\"Adelaide\",1295, 1158259, 600.5])\n",
      "x.add_row([\"Brisbane\",5905, 1857594, 1146.4])\n",
      "x.add_row([\"Darwin\", 112, 120900, 1714.7])\n",
      "x.add_row([\"Hobart\", 1357, 205556, 619.5])\n",
      "x.add_row([\"Sydney\", 2058, 4336374, 1214.8])\n",
      "x.add_row([\"Melbourne\", 1566, 3806092, 646.9])\n",
      "x.add_row([\"Perth\", 5386, 1554769, 869.4])\n",
      "print (x)"
     ],
     "language": "python",
     "metadata": {},
     "outputs": [
      {
       "output_type": "stream",
       "stream": "stdout",
       "text": [
        "+-----------+------+------------+-----------------+\n",
        "| City Name | Area | Population | Annual Rainfall |\n",
        "+-----------+------+------------+-----------------+\n",
        "| Adelaide  | 1295 |  1158259   |      600.5      |\n",
        "| Brisbane  | 5905 |  1857594   |      1146.4     |\n",
        "| Darwin    | 112  |   120900   |      1714.7     |\n",
        "| Hobart    | 1357 |   205556   |      619.5      |\n",
        "| Sydney    | 2058 |  4336374   |      1214.8     |\n",
        "| Melbourne | 1566 |  3806092   |      646.9      |\n",
        "| Perth     | 5386 |  1554769   |      869.4      |\n",
        "+-----------+------+------------+-----------------+\n"
       ]
      }
     ],
     "prompt_number": 7
    },
    {
     "cell_type": "code",
     "collapsed": false,
     "input": [],
     "language": "python",
     "metadata": {},
     "outputs": []
    }
   ],
   "metadata": {}
  }
 ]
}