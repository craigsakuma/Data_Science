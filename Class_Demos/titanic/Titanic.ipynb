{
 "metadata": {
  "name": ""
 },
 "nbformat": 3,
 "nbformat_minor": 0,
 "worksheets": [
  {
   "cells": [
    {
     "cell_type": "code",
     "collapsed": false,
     "input": [
      "import numpy as np\n",
      "import csv as csv\n",
      "\n",
      "#Import our data\n",
      "csv_file_object = csv.reader(open('titanic_train.csv', 'rb'))\n",
      "header = csv_file_object.next()\n",
      "data = []\n",
      "for row in csv_file_object:\n",
      "    data.append(row)\n",
      "data = np.array(data)\n",
      "\n",
      "#Calculate some summary stats\n",
      "number_passengers = np.size(data[0::,0].astype(np.float))\n",
      "number_survived = np.sum(data[0::,1].astype(np.float))\n",
      "proportion_survivors = number_survived / number_passengers\n",
      "\n",
      "print \"---- Summary Stats ----\"\n",
      "print \"Number of passengers in training set = %s\" % number_passengers\n",
      "print \"Number of survivors in training set = %s\" % number_survived\n",
      "print \"Survival rate in training set = %s\" % proportion_survivors"
     ],
     "language": "python",
     "metadata": {},
     "outputs": [
      {
       "output_type": "stream",
       "stream": "stdout",
       "text": [
        "---- Summary Stats ----\n",
        "Number of passengers in training set = 891\n",
        "Number of survivors in training set = 342.0\n",
        "Survival rate in training set = 0.383838383838\n"
       ]
      }
     ],
     "prompt_number": 5
    },
    {
     "cell_type": "code",
     "collapsed": false,
     "input": [
      "#print data\n",
      "x = data[0::,0]\n",
      "y = data[:,0]\n",
      "n = 0\n",
      "for i,j in enumerate(x):\n",
      "    if x[i] == y[i]:\n",
      "        n += 1\n",
      "\n",
      "print n"
     ],
     "language": "python",
     "metadata": {},
     "outputs": [
      {
       "output_type": "stream",
       "stream": "stdout",
       "text": [
        "891\n"
       ]
      }
     ],
     "prompt_number": 16
    },
    {
     "cell_type": "code",
     "collapsed": false,
     "input": [
      "#Calculate some gender-based stats\n",
      "women_only_stats = data[0::,4] == \"female\"\n",
      "men_only_stats = data[0::,4] == \"male\"\n",
      "unknown_gender_stats = data[0::,4] == \"\"\n",
      "\n",
      "passengers_missing_age = data[0::,5] == \"\"\n",
      "count_missing_age = np.size(data[passengers_missing_age,0].astype(np.float))\n",
      "sum_passenger_age = np.sum(data[- passengers_missing_age,5].astype(np.float))\n",
      "average_age = sum_passenger_age / (number_passengers - count_missing_age)\n",
      "print average_age"
     ],
     "language": "python",
     "metadata": {},
     "outputs": [
      {
       "output_type": "stream",
       "stream": "stdout",
       "text": [
        "29.6991176471\n"
       ]
      }
     ],
     "prompt_number": 6
    },
    {
     "cell_type": "code",
     "collapsed": false,
     "input": [
      "print (data[women_only_stats])\n"
     ],
     "language": "python",
     "metadata": {},
     "outputs": [
      {
       "output_type": "stream",
       "stream": "stdout",
       "text": [
        "314\n"
       ]
      }
     ],
     "prompt_number": 18
    },
    {
     "cell_type": "code",
     "collapsed": false,
     "input": [
      "data[passengers_missing_age,5] = average_age\n",
      "\n",
      "#use csv library to save new data out to new csv file\n",
      "\n",
      "print passengers_missing_age"
     ],
     "language": "python",
     "metadata": {},
     "outputs": []
    },
    {
     "cell_type": "code",
     "collapsed": false,
     "input": [
      "women_onboard_idx = data[women_only_stats,0].astype(np.float)\n",
      "men_onboard_idx = data[men_only_stats,0].astype(np.float)\n",
      "\n",
      "#print women_onboard_idx\n",
      "\n",
      "number_women_onboard = np.size(data[women_only_stats,0].astype(np.float))\n",
      "number_men_onboard = np.size(data[men_only_stats,0].astype(np.float))\n",
      "number_unknown_gender_onboard = np.size(data[unknown_gender_stats,0].astype(np.float))\n",
      "\n",
      "print \"---- Gender-Based Stats ----\"\n",
      "print \"number of women onboard = %s\" % number_women_onboard\n",
      "print \"number of men onboard = %s\" % number_men_onboard\n",
      "print \"number of unknown gender onboard = %s\" % number_unknown_gender_onboard\n",
      "\n",
      "number_women_survivors = np.sum(data[women_only_stats,1].astype(np.float))\n",
      "number_men_survivors = np.sum(data[men_only_stats,1].astype(np.float))\n",
      "\n",
      "print \"number of women survivors = %s\" % number_women_survivors\n",
      "print \"number of men survivors = %s\" % number_men_survivors\n",
      "\n",
      "proportion_women_survived = number_women_survivors / number_women_onboard\n",
      "proportion_men_survived = number_men_survivors / number_men_onboard\n",
      "\n",
      "print \"Proportion of women who survived = %s\" % proportion_women_survived\n",
      "print \"Proportion of men who survived = %s\" % proportion_men_survived\n"
     ],
     "language": "python",
     "metadata": {},
     "outputs": []
    }
   ],
   "metadata": {}
  }
 ]
}